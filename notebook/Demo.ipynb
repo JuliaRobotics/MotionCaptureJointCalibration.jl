{
 "cells": [
  {
   "cell_type": "code",
   "execution_count": 1,
   "metadata": {
    "collapsed": false
   },
   "outputs": [
    {
     "name": "stderr",
     "output_type": "stream",
     "text": [
      "\u001b[1m\u001b[36mINFO: \u001b[39m\u001b[22m\u001b[36mRecompiling stale cache file /home/twan/code/RigidBodyDynamics/lib/v0.6/MotionCaptureJointCalibration.ji for module MotionCaptureJointCalibration.\n",
      "\u001b[39m"
     ]
    }
   ],
   "source": [
    "using Revise # FIXME\n",
    "using MotionCaptureJointCalibration\n",
    "using RigidBodyDynamics\n",
    "using StaticArrays\n",
    "using ValkyrieRobot\n",
    "using ForwardDiff\n",
    "using Ipopt"
   ]
  },
  {
   "cell_type": "markdown",
   "metadata": {},
   "source": [
    "We'll first include some functionality for generation of synthetic measurement data:"
   ]
  },
  {
   "cell_type": "code",
   "execution_count": 2,
   "metadata": {
    "collapsed": false
   },
   "outputs": [
    {
     "data": {
      "text/plain": [
       "generate_pose_data (generic function with 2 methods)"
      ]
     },
     "execution_count": 2,
     "metadata": {},
     "output_type": "execute_result"
    }
   ],
   "source": [
    "include(joinpath(Pkg.dir(\"MotionCaptureJointCalibration\"), \"test\", \"synthetic_data_generation.jl\"))"
   ]
  },
  {
   "cell_type": "markdown",
   "metadata": {},
   "source": [
    "Create a `Mechanism` (we'll use the NASA Valkyrie robot) and `MechanismState`:"
   ]
  },
  {
   "cell_type": "code",
   "execution_count": 3,
   "metadata": {
    "collapsed": false
   },
   "outputs": [
    {
     "data": {
      "text/plain": [
       "MechanismState{Float64, Float64, Float64, …}(…)"
      ]
     },
     "execution_count": 3,
     "metadata": {},
     "output_type": "execute_result"
    }
   ],
   "source": [
    "T = Float64\n",
    "val = Valkyrie()\n",
    "mechanism = val.mechanism\n",
    "remove_fixed_tree_joints!(mechanism)\n",
    "state = MechanismState{T}(mechanism)"
   ]
  },
  {
   "cell_type": "code",
   "execution_count": 4,
   "metadata": {
    "collapsed": false
   },
   "outputs": [],
   "source": [
    "foot = findbody(mechanism, \"leftFoot\")\n",
    "pelvis = findbody(mechanism, \"pelvis\")\n",
    "markerbodies = [pelvis; foot]\n",
    "scales = Dict(pelvis => 5., foot => 1.) # be careful with these; having them be different orders of magnitude can lead to numerical issues\n",
    "correction_joints = collect(path(mechanism, pelvis, foot))\n",
    "calibration_param_bounds = Dict(j => [(-0.05, 0.05)] for j in correction_joints)\n",
    "free_joint_configuration_bounds = Dict(j => fill((-1., 1.), num_positions(j)) for j in tree_joints(mechanism) if isfloating(j))\n",
    "srand(1)\n",
    "ground_truth_marker_positions, measured_marker_positions = generate_marker_positions(markerbodies)\n",
    "ground_truth_offsets = generate_joint_offsets(correction_joints, 1e-2)\n",
    "ground_truth_pose_data, measured_pose_data = generate_pose_data(state, ground_truth_marker_positions, ground_truth_offsets, collect(keys(free_joint_configuration_bounds)))\n",
    ";"
   ]
  },
  {
   "cell_type": "code",
   "execution_count": 5,
   "metadata": {
    "collapsed": false
   },
   "outputs": [],
   "source": [
    "problem = CalibrationProblem(mechanism, calibration_param_bounds, free_joint_configuration_bounds, measured_marker_positions, measured_pose_data);"
   ]
  },
  {
   "cell_type": "code",
   "execution_count": 8,
   "metadata": {
    "collapsed": false
   },
   "outputs": [
    {
     "name": "stderr",
     "output_type": "stream",
     "text": [
      "WARNING: Method definition show(IO, MotionCaptureJointCalibration.CalibrationProblem{T}) in module MotionCaptureJointCalibration at /home/twan/code/RigidBodyDynamics/v0.6/MotionCaptureJointCalibration/src/problem.jl:36 overwritten at /home/twan/code/RigidBodyDynamics/v0.6/MotionCaptureJointCalibration/src/problem.jl:36.\n"
     ]
    },
    {
     "data": {
      "text/plain": [
       "CalibrationProblem{Float64} with:\n",
       "* 25 poses\n",
       "* 6 calibration parameters\n",
       "* 8 markers attached to 2 bodies\n",
       "\n"
      ]
     },
     "execution_count": 8,
     "metadata": {},
     "output_type": "execute_result"
    }
   ],
   "source": [
    "problem"
   ]
  },
  {
   "cell_type": "code",
   "execution_count": 3,
   "metadata": {
    "collapsed": false
   },
   "outputs": [
    {
     "name": "stdout",
     "output_type": "stream",
     "text": [
      "\n",
      "******************************************************************************\n",
      "This program contains Ipopt, a library for large-scale nonlinear optimization.\n",
      " Ipopt is released as open source code under the Eclipse Public License (EPL).\n",
      "         For more information visit http://projects.coin-or.org/Ipopt\n",
      "******************************************************************************\n",
      "\n",
      "Starting derivative checker for first derivatives.\n",
      "\n",
      "\n",
      "No errors detected by derivative checker.\n",
      "\n",
      "Total number of variables............................:      362\n",
      "                     variables with only lower bounds:        0\n",
      "                variables with lower and upper bounds:      187\n",
      "                     variables with only upper bounds:        0\n",
      "Total number of equality constraints.................:      200\n",
      "Total number of inequality constraints...............:        0\n",
      "        inequality constraints with only lower bounds:        0\n",
      "   inequality constraints with lower and upper bounds:        0\n",
      "        inequality constraints with only upper bounds:        0\n",
      "\n",
      "\n",
      "Number of Iterations....: 5019\n",
      "\n",
      "                                   (scaled)                 (unscaled)\n",
      "Objective...............:   3.6405069430536988e-09    3.6405069430536988e-09\n",
      "Dual infeasibility......:   3.9076492971624847e-08    3.9076492971624847e-08\n",
      "Constraint violation....:   1.0768515609956839e-13    1.0768515609956839e-13\n",
      "Complementarity.........:   1.0000000000000003e-11    1.0000000000000003e-11\n",
      "Overall NLP error.......:   3.9076492971624847e-08    3.9076492971624847e-08\n",
      "\n",
      "\n",
      "Number of objective function evaluations             = 6784\n",
      "Number of objective gradient evaluations             = 5020\n",
      "Number of equality constraint evaluations            = 6784\n",
      "Number of inequality constraint evaluations          = 0\n",
      "Number of equality constraint Jacobian evaluations   = 5020\n",
      "Number of inequality constraint Jacobian evaluations = 0\n",
      "Number of Lagrangian Hessian evaluations             = 0\n",
      "Total CPU secs in IPOPT (w/o function evaluations)   =     16.320\n",
      "Total CPU secs in NLP function evaluations           =      6.532\n",
      "\n",
      "EXIT: Solved To Acceptable Level.\n"
     ]
    },
    {
     "data": {
      "text/plain": [
       "CalibrationResult{Float64}: Optimal, residual = 3.640506943053699e-9. Calibration parameters:\n",
       "leftAnkleRoll: [-0.00407437]\n",
       "leftHipRoll: [0.00903429]\n",
       "leftKneePitch: [0.000381601]\n",
       "leftAnklePitch: [-0.00977723]\n",
       "leftHipPitch: [-0.0080456]\n",
       "leftHipYaw: [0.00466544]"
      ]
     },
     "execution_count": 3,
     "metadata": {},
     "output_type": "execute_result"
    }
   ],
   "source": [
    "solver = IpoptSolver(print_level = 4, max_iter = 10000, derivative_test = \"first-order\", check_derivatives_for_naninf = \"yes\", tol = 1e-10)\n",
    "# other useful options:\n",
    "# hessian_approximation = \"limited-memory\"\n",
    "\n",
    "problem = CalibrationProblem(mechanism, calibration_param_bounds, free_joint_configuration_bounds, measured_marker_positions, measured_pose_data)\n",
    "result = solve(problem, solver)"
   ]
  },
  {
   "cell_type": "code",
   "execution_count": 4,
   "metadata": {
    "collapsed": false
   },
   "outputs": [
    {
     "data": {
      "text/html": [
       "<div id=\"interact-js-shim\">\n",
       "    <script charset=\"utf-8\">\n",
       "(function (IPython, $, _, MathJax) {\n",
       "    $.event.special.destroyed = {\n",
       "\tremove: function(o) {\n",
       "\t    if (o.handler) {\n",
       "\t\to.handler.apply(this, arguments)\n",
       "\t    }\n",
       "\t}\n",
       "    }\n",
       "\n",
       "    var OutputArea = IPython.version >= \"4.0.0\" ? require(\"notebook/js/outputarea\").OutputArea : IPython.OutputArea;\n",
       "\n",
       "    var redrawValue = function (container, type, val) {\n",
       "\tvar selector = $(\"<div/>\");\n",
       "\tvar oa = new OutputArea(_.extend(selector, {\n",
       "\t    selector: selector,\n",
       "\t    prompt_area: true,\n",
       "\t    events: IPython.events,\n",
       "\t    keyboard_manager: IPython.keyboard_manager\n",
       "\t})); // Hack to work with IPython 2.1.0\n",
       "\n",
       "\tswitch (type) {\n",
       "\tcase \"image/png\":\n",
       "            var _src = 'data:' + type + ';base64,' + val;\n",
       "\t    $(container).find(\"img\").attr('src', _src);\n",
       "\t    break;\n",
       "\tcase \"text/latex\":\n",
       "\t\tif (MathJax){\n",
       "\t\t\tvar math = MathJax.Hub.getAllJax(container)[0];\n",
       "\t\t\tMathJax.Hub.Queue([\"Text\", math, val.replace(/^\\${1,2}|\\${1,2}$/g, '')]);\n",
       "\t\t\tbreak;\n",
       "\t\t}\n",
       "\tdefault:\n",
       "\t    var toinsert = OutputArea.append_map[type].apply(\n",
       "\t\toa, [val, {}, selector]\n",
       "\t    );\n",
       "\t    $(container).empty().append(toinsert.contents());\n",
       "\t    selector.remove();\n",
       "\t}\n",
       "    }\n",
       "\n",
       "\n",
       "    $(document).ready(function() {\n",
       "\tfunction initComm(evt, data) {\n",
       "\t    var comm_manager = data.kernel.comm_manager;\n",
       "        //_.extend(comm_manager.targets, require(\"widgets/js/widget\"))\n",
       "\t    comm_manager.register_target(\"Signal\", function (comm) {\n",
       "            comm.on_msg(function (msg) {\n",
       "                var val = msg.content.data.value;\n",
       "                $(\".signal-\" + comm.comm_id).each(function() {\n",
       "                var type = $(this).data(\"type\");\n",
       "                if (typeof(val[type]) !== \"undefined\" && val[type] !== null) {\n",
       "                    redrawValue(this, type, val[type], type);\n",
       "                }\n",
       "                });\n",
       "                delete val;\n",
       "                delete msg.content.data.value;\n",
       "            });\n",
       "\t    });\n",
       "\n",
       "\t    // coordingate with Comm and redraw Signals\n",
       "\t    // XXX: Test using Reactive here to improve performance\n",
       "\t    $([IPython.events]).on(\n",
       "\t\t'output_appended.OutputArea', function (event, type, value, md, toinsert) {\n",
       "\t\t    if (md && md.reactive) {\n",
       "                // console.log(md.comm_id);\n",
       "                toinsert.addClass(\"signal-\" + md.comm_id);\n",
       "                toinsert.data(\"type\", type);\n",
       "                // Signal back indicating the mimetype required\n",
       "                var comm_manager = IPython.notebook.kernel.comm_manager;\n",
       "                var comm = comm_manager.comms[md.comm_id];\n",
       "                comm.then(function (c) {\n",
       "                    c.send({action: \"subscribe_mime\",\n",
       "                       mime: type});\n",
       "                    toinsert.bind(\"destroyed\", function() {\n",
       "                        c.send({action: \"unsubscribe_mime\",\n",
       "                               mime: type});\n",
       "                    });\n",
       "                })\n",
       "\t\t    }\n",
       "\t    });\n",
       "\t}\n",
       "\n",
       "\ttry {\n",
       "\t    // try to initialize right away. otherwise, wait on the status_started event.\n",
       "\t    initComm(undefined, IPython.notebook);\n",
       "\t} catch (e) {\n",
       "\t    $([IPython.events]).on('kernel_created.Kernel kernel_created.Session', initComm);\n",
       "\t}\n",
       "    });\n",
       "})(IPython, jQuery, _, MathJax);\n",
       "</script>\n",
       "    <script>\n",
       "        window.interactLoadedFlag = true\n",
       "       $(\"#interact-js-shim\").bind(\"destroyed\", function () {\n",
       "           if (window.interactLoadedFlag) {\n",
       "               console.warn(\"JavaScript required by Interact will be removed if you remove this cell or run using Interact more than once.\")\n",
       "           }\n",
       "       })\n",
       "       $([IPython.events]).on(\"kernel_starting.Kernel kernel_restarting.Kernel\", function () { window.interactLoadedFlag = false })\n",
       "   </script>\n",
       "</div>"
      ]
     },
     "metadata": {},
     "output_type": "display_data"
    },
    {
     "name": "stderr",
     "output_type": "stream",
     "text": [
      "\n",
      "WARNING: deprecated syntax \"abstract Widget\".\n",
      "Use \"abstract type Widget end\" instead.\n",
      "\n",
      "WARNING: deprecated syntax \"abstract InputWidget{T}<:Widget\".\n",
      "Use \"abstract type InputWidget{T}<:Widget end\" instead.\n",
      "\n",
      "WARNING: deprecated syntax \"abstract WidgetMod<:Widget\".\n",
      "Use \"abstract type WidgetMod<:Widget end\" instead.\n",
      "\n",
      "WARNING: deprecated syntax \"abstract Container<:Widget\".\n",
      "Use \"abstract type Container<:Widget end\" instead.\n"
     ]
    }
   ],
   "source": [
    "using RigidBodyTreeInspector\n",
    "using DrakeVisualizer"
   ]
  },
  {
   "cell_type": "code",
   "execution_count": 7,
   "metadata": {
    "collapsed": false
   },
   "outputs": [
    {
     "name": "stderr",
     "output_type": "stream",
     "text": [
      "Bus::open: Connect ibus failed! \n",
      "IBusInputContext::createInputContext: no connection to ibus-daemon \n"
     ]
    },
    {
     "data": {
      "text/plain": [
       "MechanismState{Float64, Float64, Float64, …}(…)"
      ]
     },
     "execution_count": 7,
     "metadata": {},
     "output_type": "execute_result"
    }
   ],
   "source": [
    "DrakeVisualizer.any_open_windows() || (DrakeVisualizer.new_window(); sleep(1))\n",
    "vis = Visualizer()[:valkyrie]\n",
    "setgeometry!(vis, mechanism, parse_urdf(ValkyrieRobot.urdfpath(), mechanism; package_path = [ValkyrieRobot.packagepath()]))\n",
    "state = MechanismState{T}(mechanism)"
   ]
  },
  {
   "cell_type": "code",
   "execution_count": 6,
   "metadata": {
    "collapsed": false
   },
   "outputs": [
    {
     "data": {
      "text/html": [],
      "text/plain": [
       "Interact.Options{:SelectionSlider,Bool}(1: \"input\" = false Bool , \"\", false, \"Before cal\", Interact.OptionDict(DataStructures.OrderedDict(\"Before cal\"=>false,\"After cal\"=>true), Dict(false=>\"Before cal\",true=>\"After cal\")), Any[], Any[], true, \"horizontal\")"
      ]
     },
     "metadata": {},
     "output_type": "display_data"
    },
    {
     "data": {
      "text/html": [],
      "text/plain": [
       "Interact.Slider{Int64}(3: \"input-2\" = 1 Int64 , \"Pose number\", 1, 1:25, \"horizontal\", true, \"d\", true)"
      ]
     },
     "metadata": {},
     "output_type": "display_data"
    }
   ],
   "source": [
    "inspect!(state, vis, problem, result)"
   ]
  },
  {
   "cell_type": "code",
   "execution_count": null,
   "metadata": {
    "collapsed": true
   },
   "outputs": [],
   "source": []
  }
 ],
 "metadata": {
  "kernelspec": {
   "display_name": "Julia 0.6.0",
   "language": "julia",
   "name": "julia-0.6"
  },
  "language_info": {
   "file_extension": ".jl",
   "mimetype": "application/julia",
   "name": "julia",
   "version": "0.6.0"
  }
 },
 "nbformat": 4,
 "nbformat_minor": 1
}
