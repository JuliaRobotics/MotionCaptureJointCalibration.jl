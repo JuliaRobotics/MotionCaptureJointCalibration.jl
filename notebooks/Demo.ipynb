{
 "cells": [
  {
   "cell_type": "code",
   "execution_count": 11,
   "metadata": {
    "collapsed": false
   },
   "outputs": [],
   "source": [
    "using MotionCaptureJointCalibration\n",
    "using RigidBodyDynamics\n",
    "using StaticArrays\n",
    "using ValkyrieRobot\n",
    "using ForwardDiff\n",
    "using Ipopt"
   ]
  },
  {
   "cell_type": "markdown",
   "metadata": {},
   "source": [
    "Create a `Mechanism` (we'll use the NASA Valkyrie robot) and `MechanismState`:"
   ]
  },
  {
   "cell_type": "code",
   "execution_count": 12,
   "metadata": {
    "collapsed": false
   },
   "outputs": [
    {
     "data": {
      "text/plain": [
       "MechanismState{Float64, Float64, Float64, …}(…)"
      ]
     },
     "execution_count": 12,
     "metadata": {},
     "output_type": "execute_result"
    }
   ],
   "source": [
    "T = Float64\n",
    "val = Valkyrie()\n",
    "mechanism = val.mechanism\n",
    "remove_fixed_tree_joints!(mechanism)\n",
    "state = MechanismState{T}(mechanism)"
   ]
  },
  {
   "cell_type": "markdown",
   "metadata": {},
   "source": [
    "Let's generate a random calibration problem, as well as its ground truth solution:"
   ]
  },
  {
   "cell_type": "code",
   "execution_count": 13,
   "metadata": {
    "collapsed": false
   },
   "outputs": [],
   "source": [
    "using MotionCaptureJointCalibration.SyntheticDataGeneration\n",
    "bodies_with_markers = findbody.(mechanism, [\"leftFoot\", \"pelvis\"])\n",
    "srand(1)\n",
    "body_weights = Dict(b => rand() for b in bodies_with_markers)\n",
    "problem, groundtruth = generate_calibration_problem(state, body_weights);"
   ]
  },
  {
   "cell_type": "code",
   "execution_count": 14,
   "metadata": {
    "collapsed": false
   },
   "outputs": [
    {
     "data": {
      "text/plain": [
       "CalibrationProblem{Float64} with:\n",
       "* 25 poses\n",
       "* 6 calibration parameters\n",
       "* 8 markers attached to 2 bodies\n",
       "\n"
      ]
     },
     "execution_count": 14,
     "metadata": {},
     "output_type": "execute_result"
    }
   ],
   "source": [
    "problem"
   ]
  },
  {
   "cell_type": "code",
   "execution_count": 15,
   "metadata": {
    "collapsed": false
   },
   "outputs": [
    {
     "data": {
      "text/plain": [
       "CalibrationResult{Float64}: Optimal, residual = 0.0. Calibration parameters:\n",
       "leftAnkleRoll: [0.00473574]\n",
       "leftAnklePitch: [0.00907607]\n",
       "leftKneePitch: [-0.00809629]\n",
       "leftHipRoll: [-0.00972919]\n",
       "leftHipPitch: [0.000393507]\n",
       "leftHipYaw: [-0.00393202]"
      ]
     },
     "execution_count": 15,
     "metadata": {},
     "output_type": "execute_result"
    }
   ],
   "source": [
    "groundtruth"
   ]
  },
  {
   "cell_type": "markdown",
   "metadata": {},
   "source": [
    "Solve the calibration problem (without using the ground truth result):"
   ]
  },
  {
   "cell_type": "code",
   "execution_count": 16,
   "metadata": {
    "collapsed": false
   },
   "outputs": [
    {
     "data": {
      "text/plain": [
       "CalibrationResult{Float64}: Optimal, residual = 1.146371767679625e-9. Calibration parameters:\n",
       "leftAnkleRoll: [0.00454503]\n",
       "leftAnklePitch: [0.0088235]\n",
       "leftKneePitch: [-0.00809516]\n",
       "leftHipRoll: [-0.00977607]\n",
       "leftHipPitch: [0.000412891]\n",
       "leftHipYaw: [-0.00403672]"
      ]
     },
     "execution_count": 16,
     "metadata": {},
     "output_type": "execute_result"
    }
   ],
   "source": [
    "solver = IpoptSolver(print_level = 0, max_iter = 10000, derivative_test = \"first-order\", check_derivatives_for_naninf = \"yes\", tol = 1e-10)\n",
    "result = solve(problem, solver)"
   ]
  },
  {
   "cell_type": "markdown",
   "metadata": {},
   "source": [
    "And visualize the results:"
   ]
  },
  {
   "cell_type": "code",
   "execution_count": 17,
   "metadata": {
    "collapsed": false
   },
   "outputs": [],
   "source": [
    "using RigidBodyTreeInspector\n",
    "using DrakeVisualizer"
   ]
  },
  {
   "cell_type": "code",
   "execution_count": 18,
   "metadata": {
    "collapsed": false
   },
   "outputs": [
    {
     "data": {
      "text/plain": [
       "true"
      ]
     },
     "execution_count": 18,
     "metadata": {},
     "output_type": "execute_result"
    }
   ],
   "source": [
    "#NBSKIP\n",
    "DrakeVisualizer.any_open_windows() || (DrakeVisualizer.new_window(); sleep(1));"
   ]
  },
  {
   "cell_type": "code",
   "execution_count": 19,
   "metadata": {
    "collapsed": false
   },
   "outputs": [
    {
     "data": {
      "text/plain": [
       "MechanismState{Float64, Float64, Float64, …}(…)"
      ]
     },
     "execution_count": 19,
     "metadata": {},
     "output_type": "execute_result"
    }
   ],
   "source": [
    "vis = Visualizer()[:valkyrie]\n",
    "setgeometry!(vis, mechanism, parse_urdf(ValkyrieRobot.urdfpath(), mechanism; package_path = [ValkyrieRobot.packagepath()]))\n",
    "state = MechanismState{T}(mechanism)"
   ]
  },
  {
   "cell_type": "code",
   "execution_count": 20,
   "metadata": {
    "collapsed": false
   },
   "outputs": [
    {
     "data": {
      "text/html": [],
      "text/plain": [
       "Interact.Options{:SelectionSlider,Bool}(5: \"input-3\" = false Bool , \"\", false, \"Before cal\", Interact.OptionDict(DataStructures.OrderedDict(\"Before cal\"=>false,\"After cal\"=>true), Dict(false=>\"Before cal\",true=>\"After cal\")), Any[], Any[], true, \"horizontal\")"
      ]
     },
     "metadata": {},
     "output_type": "display_data"
    },
    {
     "data": {
      "text/html": [],
      "text/plain": [
       "Interact.Slider{Int64}(7: \"input-4\" = 1 Int64 , \"Pose number\", 1, 1:25, \"horizontal\", true, \"d\", true)"
      ]
     },
     "metadata": {},
     "output_type": "display_data"
    }
   ],
   "source": [
    "inspect!(state, vis, problem, result)"
   ]
  }
 ],
 "metadata": {
  "kernelspec": {
   "display_name": "Julia 0.6.0",
   "language": "julia",
   "name": "julia-0.6"
  },
  "language_info": {
   "file_extension": ".jl",
   "mimetype": "application/julia",
   "name": "julia",
   "version": "0.6.0"
  },
  "widgets": {
   "state": {
    "488b83cc-86d5-4443-8075-a0dd0a5585ce": {
     "views": [
      {
       "cell_index": 13
      }
     ]
    },
    "69ec2085-5dc5-47c7-aa87-9a66def54201": {
     "views": [
      {
       "cell_index": 13
      }
     ]
    },
    "a0fcb656-8a8a-4004-b35c-6e1faa1cd393": {
     "views": [
      {
       "cell_index": 13
      }
     ]
    },
    "ce3222a9-936d-4d2a-aa7b-d2fe370887e0": {
     "views": [
      {
       "cell_index": 13
      }
     ]
    },
    "fcd67db0-a8b9-4de2-a784-46a06a87b7b4": {
     "views": [
      {
       "cell_index": 13
      }
     ]
    }
   },
   "version": "1.2.0"
  }
 },
 "nbformat": 4,
 "nbformat_minor": 1
}
